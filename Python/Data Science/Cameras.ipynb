{
 "cells": [
  {
   "cell_type": "markdown",
   "id": "643b5778-0304-4ab0-a889-9425bdc28969",
   "metadata": {},
   "source": [
    "# Practice with camera csv from kaggle"
   ]
  },
  {
   "cell_type": "code",
   "execution_count": 2,
   "id": "702693de-9d0c-4225-8394-09bcc12284a1",
   "metadata": {},
   "outputs": [],
   "source": [
    "import pandas as pd\n",
    "import matplotlib.pyplot as plt\n",
    "import numpy as np"
   ]
  },
  {
   "cell_type": "code",
   "execution_count": 3,
   "id": "7d32b5a6-3626-45b1-9968-9fdf4e1f37b1",
   "metadata": {},
   "outputs": [],
   "source": [
    "cams = pd.read_csv('camera_dataset.csv')"
   ]
  },
  {
   "cell_type": "code",
   "execution_count": 4,
   "id": "f9a4bc89-cc67-448d-8eed-e124abbdd861",
   "metadata": {},
   "outputs": [
    {
     "data": {
      "text/html": [
       "<div>\n",
       "<style scoped>\n",
       "    .dataframe tbody tr th:only-of-type {\n",
       "        vertical-align: middle;\n",
       "    }\n",
       "\n",
       "    .dataframe tbody tr th {\n",
       "        vertical-align: top;\n",
       "    }\n",
       "\n",
       "    .dataframe thead th {\n",
       "        text-align: right;\n",
       "    }\n",
       "</style>\n",
       "<table border=\"1\" class=\"dataframe\">\n",
       "  <thead>\n",
       "    <tr style=\"text-align: right;\">\n",
       "      <th></th>\n",
       "      <th>Model</th>\n",
       "      <th>Release date</th>\n",
       "      <th>Max resolution</th>\n",
       "      <th>Low resolution</th>\n",
       "      <th>Effective pixels</th>\n",
       "      <th>Zoom wide (W)</th>\n",
       "      <th>Zoom tele (T)</th>\n",
       "      <th>Normal focus range</th>\n",
       "      <th>Macro focus range</th>\n",
       "      <th>Storage included</th>\n",
       "      <th>Weight (inc. batteries)</th>\n",
       "      <th>Dimensions</th>\n",
       "      <th>Price</th>\n",
       "    </tr>\n",
       "  </thead>\n",
       "  <tbody>\n",
       "    <tr>\n",
       "      <th>0</th>\n",
       "      <td>Agfa ePhoto 1280</td>\n",
       "      <td>1997</td>\n",
       "      <td>1024.0</td>\n",
       "      <td>640.0</td>\n",
       "      <td>0.0</td>\n",
       "      <td>38.0</td>\n",
       "      <td>114.0</td>\n",
       "      <td>70.0</td>\n",
       "      <td>40.0</td>\n",
       "      <td>4.0</td>\n",
       "      <td>420.0</td>\n",
       "      <td>95.0</td>\n",
       "      <td>179.0</td>\n",
       "    </tr>\n",
       "    <tr>\n",
       "      <th>1</th>\n",
       "      <td>Agfa ePhoto 1680</td>\n",
       "      <td>1998</td>\n",
       "      <td>1280.0</td>\n",
       "      <td>640.0</td>\n",
       "      <td>1.0</td>\n",
       "      <td>38.0</td>\n",
       "      <td>114.0</td>\n",
       "      <td>50.0</td>\n",
       "      <td>0.0</td>\n",
       "      <td>4.0</td>\n",
       "      <td>420.0</td>\n",
       "      <td>158.0</td>\n",
       "      <td>179.0</td>\n",
       "    </tr>\n",
       "    <tr>\n",
       "      <th>2</th>\n",
       "      <td>Agfa ePhoto CL18</td>\n",
       "      <td>2000</td>\n",
       "      <td>640.0</td>\n",
       "      <td>0.0</td>\n",
       "      <td>0.0</td>\n",
       "      <td>45.0</td>\n",
       "      <td>45.0</td>\n",
       "      <td>0.0</td>\n",
       "      <td>0.0</td>\n",
       "      <td>2.0</td>\n",
       "      <td>0.0</td>\n",
       "      <td>0.0</td>\n",
       "      <td>179.0</td>\n",
       "    </tr>\n",
       "    <tr>\n",
       "      <th>3</th>\n",
       "      <td>Agfa ePhoto CL30</td>\n",
       "      <td>1999</td>\n",
       "      <td>1152.0</td>\n",
       "      <td>640.0</td>\n",
       "      <td>0.0</td>\n",
       "      <td>35.0</td>\n",
       "      <td>35.0</td>\n",
       "      <td>0.0</td>\n",
       "      <td>0.0</td>\n",
       "      <td>4.0</td>\n",
       "      <td>0.0</td>\n",
       "      <td>0.0</td>\n",
       "      <td>269.0</td>\n",
       "    </tr>\n",
       "    <tr>\n",
       "      <th>4</th>\n",
       "      <td>Agfa ePhoto CL30 Clik!</td>\n",
       "      <td>1999</td>\n",
       "      <td>1152.0</td>\n",
       "      <td>640.0</td>\n",
       "      <td>0.0</td>\n",
       "      <td>43.0</td>\n",
       "      <td>43.0</td>\n",
       "      <td>50.0</td>\n",
       "      <td>0.0</td>\n",
       "      <td>40.0</td>\n",
       "      <td>300.0</td>\n",
       "      <td>128.0</td>\n",
       "      <td>1299.0</td>\n",
       "    </tr>\n",
       "    <tr>\n",
       "      <th>...</th>\n",
       "      <td>...</td>\n",
       "      <td>...</td>\n",
       "      <td>...</td>\n",
       "      <td>...</td>\n",
       "      <td>...</td>\n",
       "      <td>...</td>\n",
       "      <td>...</td>\n",
       "      <td>...</td>\n",
       "      <td>...</td>\n",
       "      <td>...</td>\n",
       "      <td>...</td>\n",
       "      <td>...</td>\n",
       "      <td>...</td>\n",
       "    </tr>\n",
       "    <tr>\n",
       "      <th>1033</th>\n",
       "      <td>Toshiba PDR-M65</td>\n",
       "      <td>2001</td>\n",
       "      <td>2048.0</td>\n",
       "      <td>1024.0</td>\n",
       "      <td>3.0</td>\n",
       "      <td>38.0</td>\n",
       "      <td>114.0</td>\n",
       "      <td>10.0</td>\n",
       "      <td>10.0</td>\n",
       "      <td>8.0</td>\n",
       "      <td>320.0</td>\n",
       "      <td>120.0</td>\n",
       "      <td>62.0</td>\n",
       "    </tr>\n",
       "    <tr>\n",
       "      <th>1034</th>\n",
       "      <td>Toshiba PDR-M70</td>\n",
       "      <td>2000</td>\n",
       "      <td>2048.0</td>\n",
       "      <td>1024.0</td>\n",
       "      <td>3.0</td>\n",
       "      <td>35.0</td>\n",
       "      <td>105.0</td>\n",
       "      <td>80.0</td>\n",
       "      <td>9.0</td>\n",
       "      <td>16.0</td>\n",
       "      <td>390.0</td>\n",
       "      <td>116.0</td>\n",
       "      <td>62.0</td>\n",
       "    </tr>\n",
       "    <tr>\n",
       "      <th>1035</th>\n",
       "      <td>Toshiba PDR-M71</td>\n",
       "      <td>2001</td>\n",
       "      <td>2048.0</td>\n",
       "      <td>1024.0</td>\n",
       "      <td>3.0</td>\n",
       "      <td>35.0</td>\n",
       "      <td>98.0</td>\n",
       "      <td>80.0</td>\n",
       "      <td>10.0</td>\n",
       "      <td>8.0</td>\n",
       "      <td>340.0</td>\n",
       "      <td>107.0</td>\n",
       "      <td>62.0</td>\n",
       "    </tr>\n",
       "    <tr>\n",
       "      <th>1036</th>\n",
       "      <td>Toshiba PDR-M81</td>\n",
       "      <td>2001</td>\n",
       "      <td>2400.0</td>\n",
       "      <td>1200.0</td>\n",
       "      <td>3.0</td>\n",
       "      <td>35.0</td>\n",
       "      <td>98.0</td>\n",
       "      <td>80.0</td>\n",
       "      <td>10.0</td>\n",
       "      <td>16.0</td>\n",
       "      <td>340.0</td>\n",
       "      <td>107.0</td>\n",
       "      <td>62.0</td>\n",
       "    </tr>\n",
       "    <tr>\n",
       "      <th>1037</th>\n",
       "      <td>Toshiba PDR-T10</td>\n",
       "      <td>2002</td>\n",
       "      <td>1600.0</td>\n",
       "      <td>800.0</td>\n",
       "      <td>1.0</td>\n",
       "      <td>38.0</td>\n",
       "      <td>38.0</td>\n",
       "      <td>40.0</td>\n",
       "      <td>20.0</td>\n",
       "      <td>8.0</td>\n",
       "      <td>180.0</td>\n",
       "      <td>86.0</td>\n",
       "      <td>129.0</td>\n",
       "    </tr>\n",
       "  </tbody>\n",
       "</table>\n",
       "<p>1038 rows × 13 columns</p>\n",
       "</div>"
      ],
      "text/plain": [
       "                       Model  Release date  Max resolution  Low resolution  \\\n",
       "0           Agfa ePhoto 1280          1997          1024.0           640.0   \n",
       "1           Agfa ePhoto 1680          1998          1280.0           640.0   \n",
       "2           Agfa ePhoto CL18          2000           640.0             0.0   \n",
       "3           Agfa ePhoto CL30          1999          1152.0           640.0   \n",
       "4     Agfa ePhoto CL30 Clik!          1999          1152.0           640.0   \n",
       "...                      ...           ...             ...             ...   \n",
       "1033         Toshiba PDR-M65          2001          2048.0          1024.0   \n",
       "1034         Toshiba PDR-M70          2000          2048.0          1024.0   \n",
       "1035         Toshiba PDR-M71          2001          2048.0          1024.0   \n",
       "1036         Toshiba PDR-M81          2001          2400.0          1200.0   \n",
       "1037         Toshiba PDR-T10          2002          1600.0           800.0   \n",
       "\n",
       "      Effective pixels  Zoom wide (W)  Zoom tele (T)  Normal focus range  \\\n",
       "0                  0.0           38.0          114.0                70.0   \n",
       "1                  1.0           38.0          114.0                50.0   \n",
       "2                  0.0           45.0           45.0                 0.0   \n",
       "3                  0.0           35.0           35.0                 0.0   \n",
       "4                  0.0           43.0           43.0                50.0   \n",
       "...                ...            ...            ...                 ...   \n",
       "1033               3.0           38.0          114.0                10.0   \n",
       "1034               3.0           35.0          105.0                80.0   \n",
       "1035               3.0           35.0           98.0                80.0   \n",
       "1036               3.0           35.0           98.0                80.0   \n",
       "1037               1.0           38.0           38.0                40.0   \n",
       "\n",
       "      Macro focus range  Storage included  Weight (inc. batteries)  \\\n",
       "0                  40.0               4.0                    420.0   \n",
       "1                   0.0               4.0                    420.0   \n",
       "2                   0.0               2.0                      0.0   \n",
       "3                   0.0               4.0                      0.0   \n",
       "4                   0.0              40.0                    300.0   \n",
       "...                 ...               ...                      ...   \n",
       "1033               10.0               8.0                    320.0   \n",
       "1034                9.0              16.0                    390.0   \n",
       "1035               10.0               8.0                    340.0   \n",
       "1036               10.0              16.0                    340.0   \n",
       "1037               20.0               8.0                    180.0   \n",
       "\n",
       "      Dimensions   Price  \n",
       "0           95.0   179.0  \n",
       "1          158.0   179.0  \n",
       "2            0.0   179.0  \n",
       "3            0.0   269.0  \n",
       "4          128.0  1299.0  \n",
       "...          ...     ...  \n",
       "1033       120.0    62.0  \n",
       "1034       116.0    62.0  \n",
       "1035       107.0    62.0  \n",
       "1036       107.0    62.0  \n",
       "1037        86.0   129.0  \n",
       "\n",
       "[1038 rows x 13 columns]"
      ]
     },
     "execution_count": 4,
     "metadata": {},
     "output_type": "execute_result"
    }
   ],
   "source": [
    "cams"
   ]
  },
  {
   "cell_type": "markdown",
   "id": "35999e0a-8139-4d9f-ba39-f76dcc467ab6",
   "metadata": {},
   "source": [
    "### Plot multiple values. Have price be the common value"
   ]
  },
  {
   "cell_type": "code",
   "execution_count": 5,
   "id": "bb29502c-dd64-4186-9a5b-d3e3bb0eeb88",
   "metadata": {},
   "outputs": [],
   "source": [
    "cams.set_index('Model', inplace=True)"
   ]
  },
  {
   "cell_type": "code",
   "execution_count": 6,
   "id": "d91f703a-51b3-4748-973a-d814e4412ca8",
   "metadata": {},
   "outputs": [
    {
     "data": {
      "text/html": [
       "<div>\n",
       "<style scoped>\n",
       "    .dataframe tbody tr th:only-of-type {\n",
       "        vertical-align: middle;\n",
       "    }\n",
       "\n",
       "    .dataframe tbody tr th {\n",
       "        vertical-align: top;\n",
       "    }\n",
       "\n",
       "    .dataframe thead th {\n",
       "        text-align: right;\n",
       "    }\n",
       "</style>\n",
       "<table border=\"1\" class=\"dataframe\">\n",
       "  <thead>\n",
       "    <tr style=\"text-align: right;\">\n",
       "      <th></th>\n",
       "      <th>Release date</th>\n",
       "      <th>Max resolution</th>\n",
       "      <th>Low resolution</th>\n",
       "      <th>Effective pixels</th>\n",
       "      <th>Zoom wide (W)</th>\n",
       "      <th>Zoom tele (T)</th>\n",
       "      <th>Normal focus range</th>\n",
       "      <th>Macro focus range</th>\n",
       "      <th>Storage included</th>\n",
       "      <th>Weight (inc. batteries)</th>\n",
       "      <th>Dimensions</th>\n",
       "      <th>Price</th>\n",
       "    </tr>\n",
       "    <tr>\n",
       "      <th>Model</th>\n",
       "      <th></th>\n",
       "      <th></th>\n",
       "      <th></th>\n",
       "      <th></th>\n",
       "      <th></th>\n",
       "      <th></th>\n",
       "      <th></th>\n",
       "      <th></th>\n",
       "      <th></th>\n",
       "      <th></th>\n",
       "      <th></th>\n",
       "      <th></th>\n",
       "    </tr>\n",
       "  </thead>\n",
       "  <tbody>\n",
       "    <tr>\n",
       "      <th>Agfa ePhoto 1280</th>\n",
       "      <td>1997</td>\n",
       "      <td>1024.0</td>\n",
       "      <td>640.0</td>\n",
       "      <td>0.0</td>\n",
       "      <td>38.0</td>\n",
       "      <td>114.0</td>\n",
       "      <td>70.0</td>\n",
       "      <td>40.0</td>\n",
       "      <td>4.0</td>\n",
       "      <td>420.0</td>\n",
       "      <td>95.0</td>\n",
       "      <td>179.0</td>\n",
       "    </tr>\n",
       "    <tr>\n",
       "      <th>Agfa ePhoto 1680</th>\n",
       "      <td>1998</td>\n",
       "      <td>1280.0</td>\n",
       "      <td>640.0</td>\n",
       "      <td>1.0</td>\n",
       "      <td>38.0</td>\n",
       "      <td>114.0</td>\n",
       "      <td>50.0</td>\n",
       "      <td>0.0</td>\n",
       "      <td>4.0</td>\n",
       "      <td>420.0</td>\n",
       "      <td>158.0</td>\n",
       "      <td>179.0</td>\n",
       "    </tr>\n",
       "    <tr>\n",
       "      <th>Agfa ePhoto CL18</th>\n",
       "      <td>2000</td>\n",
       "      <td>640.0</td>\n",
       "      <td>0.0</td>\n",
       "      <td>0.0</td>\n",
       "      <td>45.0</td>\n",
       "      <td>45.0</td>\n",
       "      <td>0.0</td>\n",
       "      <td>0.0</td>\n",
       "      <td>2.0</td>\n",
       "      <td>0.0</td>\n",
       "      <td>0.0</td>\n",
       "      <td>179.0</td>\n",
       "    </tr>\n",
       "    <tr>\n",
       "      <th>Agfa ePhoto CL30</th>\n",
       "      <td>1999</td>\n",
       "      <td>1152.0</td>\n",
       "      <td>640.0</td>\n",
       "      <td>0.0</td>\n",
       "      <td>35.0</td>\n",
       "      <td>35.0</td>\n",
       "      <td>0.0</td>\n",
       "      <td>0.0</td>\n",
       "      <td>4.0</td>\n",
       "      <td>0.0</td>\n",
       "      <td>0.0</td>\n",
       "      <td>269.0</td>\n",
       "    </tr>\n",
       "    <tr>\n",
       "      <th>Agfa ePhoto CL30 Clik!</th>\n",
       "      <td>1999</td>\n",
       "      <td>1152.0</td>\n",
       "      <td>640.0</td>\n",
       "      <td>0.0</td>\n",
       "      <td>43.0</td>\n",
       "      <td>43.0</td>\n",
       "      <td>50.0</td>\n",
       "      <td>0.0</td>\n",
       "      <td>40.0</td>\n",
       "      <td>300.0</td>\n",
       "      <td>128.0</td>\n",
       "      <td>1299.0</td>\n",
       "    </tr>\n",
       "    <tr>\n",
       "      <th>...</th>\n",
       "      <td>...</td>\n",
       "      <td>...</td>\n",
       "      <td>...</td>\n",
       "      <td>...</td>\n",
       "      <td>...</td>\n",
       "      <td>...</td>\n",
       "      <td>...</td>\n",
       "      <td>...</td>\n",
       "      <td>...</td>\n",
       "      <td>...</td>\n",
       "      <td>...</td>\n",
       "      <td>...</td>\n",
       "    </tr>\n",
       "    <tr>\n",
       "      <th>Toshiba PDR-M65</th>\n",
       "      <td>2001</td>\n",
       "      <td>2048.0</td>\n",
       "      <td>1024.0</td>\n",
       "      <td>3.0</td>\n",
       "      <td>38.0</td>\n",
       "      <td>114.0</td>\n",
       "      <td>10.0</td>\n",
       "      <td>10.0</td>\n",
       "      <td>8.0</td>\n",
       "      <td>320.0</td>\n",
       "      <td>120.0</td>\n",
       "      <td>62.0</td>\n",
       "    </tr>\n",
       "    <tr>\n",
       "      <th>Toshiba PDR-M70</th>\n",
       "      <td>2000</td>\n",
       "      <td>2048.0</td>\n",
       "      <td>1024.0</td>\n",
       "      <td>3.0</td>\n",
       "      <td>35.0</td>\n",
       "      <td>105.0</td>\n",
       "      <td>80.0</td>\n",
       "      <td>9.0</td>\n",
       "      <td>16.0</td>\n",
       "      <td>390.0</td>\n",
       "      <td>116.0</td>\n",
       "      <td>62.0</td>\n",
       "    </tr>\n",
       "    <tr>\n",
       "      <th>Toshiba PDR-M71</th>\n",
       "      <td>2001</td>\n",
       "      <td>2048.0</td>\n",
       "      <td>1024.0</td>\n",
       "      <td>3.0</td>\n",
       "      <td>35.0</td>\n",
       "      <td>98.0</td>\n",
       "      <td>80.0</td>\n",
       "      <td>10.0</td>\n",
       "      <td>8.0</td>\n",
       "      <td>340.0</td>\n",
       "      <td>107.0</td>\n",
       "      <td>62.0</td>\n",
       "    </tr>\n",
       "    <tr>\n",
       "      <th>Toshiba PDR-M81</th>\n",
       "      <td>2001</td>\n",
       "      <td>2400.0</td>\n",
       "      <td>1200.0</td>\n",
       "      <td>3.0</td>\n",
       "      <td>35.0</td>\n",
       "      <td>98.0</td>\n",
       "      <td>80.0</td>\n",
       "      <td>10.0</td>\n",
       "      <td>16.0</td>\n",
       "      <td>340.0</td>\n",
       "      <td>107.0</td>\n",
       "      <td>62.0</td>\n",
       "    </tr>\n",
       "    <tr>\n",
       "      <th>Toshiba PDR-T10</th>\n",
       "      <td>2002</td>\n",
       "      <td>1600.0</td>\n",
       "      <td>800.0</td>\n",
       "      <td>1.0</td>\n",
       "      <td>38.0</td>\n",
       "      <td>38.0</td>\n",
       "      <td>40.0</td>\n",
       "      <td>20.0</td>\n",
       "      <td>8.0</td>\n",
       "      <td>180.0</td>\n",
       "      <td>86.0</td>\n",
       "      <td>129.0</td>\n",
       "    </tr>\n",
       "  </tbody>\n",
       "</table>\n",
       "<p>1038 rows × 12 columns</p>\n",
       "</div>"
      ],
      "text/plain": [
       "                        Release date  Max resolution  Low resolution  \\\n",
       "Model                                                                  \n",
       "Agfa ePhoto 1280                1997          1024.0           640.0   \n",
       "Agfa ePhoto 1680                1998          1280.0           640.0   \n",
       "Agfa ePhoto CL18                2000           640.0             0.0   \n",
       "Agfa ePhoto CL30                1999          1152.0           640.0   \n",
       "Agfa ePhoto CL30 Clik!          1999          1152.0           640.0   \n",
       "...                              ...             ...             ...   \n",
       "Toshiba PDR-M65                 2001          2048.0          1024.0   \n",
       "Toshiba PDR-M70                 2000          2048.0          1024.0   \n",
       "Toshiba PDR-M71                 2001          2048.0          1024.0   \n",
       "Toshiba PDR-M81                 2001          2400.0          1200.0   \n",
       "Toshiba PDR-T10                 2002          1600.0           800.0   \n",
       "\n",
       "                        Effective pixels  Zoom wide (W)  Zoom tele (T)  \\\n",
       "Model                                                                    \n",
       "Agfa ePhoto 1280                     0.0           38.0          114.0   \n",
       "Agfa ePhoto 1680                     1.0           38.0          114.0   \n",
       "Agfa ePhoto CL18                     0.0           45.0           45.0   \n",
       "Agfa ePhoto CL30                     0.0           35.0           35.0   \n",
       "Agfa ePhoto CL30 Clik!               0.0           43.0           43.0   \n",
       "...                                  ...            ...            ...   \n",
       "Toshiba PDR-M65                      3.0           38.0          114.0   \n",
       "Toshiba PDR-M70                      3.0           35.0          105.0   \n",
       "Toshiba PDR-M71                      3.0           35.0           98.0   \n",
       "Toshiba PDR-M81                      3.0           35.0           98.0   \n",
       "Toshiba PDR-T10                      1.0           38.0           38.0   \n",
       "\n",
       "                        Normal focus range  Macro focus range  \\\n",
       "Model                                                           \n",
       "Agfa ePhoto 1280                      70.0               40.0   \n",
       "Agfa ePhoto 1680                      50.0                0.0   \n",
       "Agfa ePhoto CL18                       0.0                0.0   \n",
       "Agfa ePhoto CL30                       0.0                0.0   \n",
       "Agfa ePhoto CL30 Clik!                50.0                0.0   \n",
       "...                                    ...                ...   \n",
       "Toshiba PDR-M65                       10.0               10.0   \n",
       "Toshiba PDR-M70                       80.0                9.0   \n",
       "Toshiba PDR-M71                       80.0               10.0   \n",
       "Toshiba PDR-M81                       80.0               10.0   \n",
       "Toshiba PDR-T10                       40.0               20.0   \n",
       "\n",
       "                        Storage included  Weight (inc. batteries)  Dimensions  \\\n",
       "Model                                                                           \n",
       "Agfa ePhoto 1280                     4.0                    420.0        95.0   \n",
       "Agfa ePhoto 1680                     4.0                    420.0       158.0   \n",
       "Agfa ePhoto CL18                     2.0                      0.0         0.0   \n",
       "Agfa ePhoto CL30                     4.0                      0.0         0.0   \n",
       "Agfa ePhoto CL30 Clik!              40.0                    300.0       128.0   \n",
       "...                                  ...                      ...         ...   \n",
       "Toshiba PDR-M65                      8.0                    320.0       120.0   \n",
       "Toshiba PDR-M70                     16.0                    390.0       116.0   \n",
       "Toshiba PDR-M71                      8.0                    340.0       107.0   \n",
       "Toshiba PDR-M81                     16.0                    340.0       107.0   \n",
       "Toshiba PDR-T10                      8.0                    180.0        86.0   \n",
       "\n",
       "                         Price  \n",
       "Model                           \n",
       "Agfa ePhoto 1280         179.0  \n",
       "Agfa ePhoto 1680         179.0  \n",
       "Agfa ePhoto CL18         179.0  \n",
       "Agfa ePhoto CL30         269.0  \n",
       "Agfa ePhoto CL30 Clik!  1299.0  \n",
       "...                        ...  \n",
       "Toshiba PDR-M65           62.0  \n",
       "Toshiba PDR-M70           62.0  \n",
       "Toshiba PDR-M71           62.0  \n",
       "Toshiba PDR-M81           62.0  \n",
       "Toshiba PDR-T10          129.0  \n",
       "\n",
       "[1038 rows x 12 columns]"
      ]
     },
     "execution_count": 6,
     "metadata": {},
     "output_type": "execute_result"
    }
   ],
   "source": [
    "cams"
   ]
  },
  {
   "cell_type": "code",
   "execution_count": 7,
   "id": "4292d56f-e3a7-4883-a323-17f029cdb866",
   "metadata": {},
   "outputs": [
    {
     "data": {
      "text/plain": [
       "Model\n",
       "Agfa ePhoto 1280          1024.0\n",
       "Agfa ePhoto 1680          1280.0\n",
       "Agfa ePhoto CL18           640.0\n",
       "Agfa ePhoto CL30          1152.0\n",
       "Agfa ePhoto CL30 Clik!    1152.0\n",
       "                           ...  \n",
       "Toshiba PDR-M65           2048.0\n",
       "Toshiba PDR-M70           2048.0\n",
       "Toshiba PDR-M71           2048.0\n",
       "Toshiba PDR-M81           2400.0\n",
       "Toshiba PDR-T10           1600.0\n",
       "Name: Max resolution, Length: 1038, dtype: float64"
      ]
     },
     "execution_count": 7,
     "metadata": {},
     "output_type": "execute_result"
    }
   ],
   "source": [
    "cams[\"Max resolution\"]"
   ]
  },
  {
   "cell_type": "code",
   "execution_count": 8,
   "id": "b4d47c04-8495-4d80-bcc7-b04ec16fd1ce",
   "metadata": {},
   "outputs": [
    {
     "data": {
      "image/png": "[encoded data removed]",
      "text/plain": [
       "<Figure size 432x288 with 1 Axes>"
      ]
     },
     "metadata": {
      "needs_background": "light"
     },
     "output_type": "display_data"
    }
   ],
   "source": [
    "plt.plot(cams.Price, cams[\"Max resolution\"], 'g+', cams.Price, cams[\"Low resolution\"], 'rx', cams.Price, cams['Storage included'], \"bo\")\n",
    "plt.xlabel(\"Price\")\n",
    "plt.legend(['Max res.', 'Low res.', 'Storage'])\n",
    "plt.title(\"Camera cost for multiple features\")\n",
    "plt.show()"
   ]
  },
  {
   "cell_type": "code",
   "execution_count": 87,
   "id": "8334d325-1efb-483b-9d34-324383091c17",
   "metadata": {},
   "outputs": [],
   "source": [
    "prices1 = []\n",
    "for price in cams.Price:\n",
    "    prices1.append(price % 225)"
   ]
  },
  {
   "cell_type": "code",
   "execution_count": 88,
   "id": "f24775a4-3ef4-4c5a-b051-d0c2c8b98eca",
   "metadata": {},
   "outputs": [
    {
     "data": {
      "text/plain": [
       "[124.0, 155.0, 190.0, 27.0, 27.0, 25.0]"
      ]
     },
     "execution_count": 88,
     "metadata": {},
     "output_type": "execute_result"
    }
   ],
   "source": [
    "max_res[:6]"
   ]
  },
  {
   "cell_type": "code",
   "execution_count": 86,
   "id": "bb1616b7-7291-4820-a90c-0e92fc522a6f",
   "metadata": {},
   "outputs": [
    {
     "data": {
      "image/png": "[encoded data removed]",
      "text/plain": [
       "<Figure size 432x288 with 4 Axes>"
      ]
     },
     "metadata": {
      "needs_background": "light"
     },
     "output_type": "display_data"
    }
   ],
   "source": [
    "plt.scatter(cams[\"Low resolution\"], cams[\"Max resolution\"], c = prices1, marker = '+', cmap='copper')\n",
    "plt.colorbar(label = \"Price\")\n",
    "plt.scatter(cams[\"Low resolution\"], cams.Dimensions, c=prices1, marker = \"s\", cmap='spring')\n",
    "plt.colorbar()\n",
    "plt.scatter(cams[\"Low resolution\"], cams['Storage included'], c=prices1,  marker = \"x\", cmap='Greens')\n",
    "plt.colorbar()\n",
    "plt.xlabel(\"Low resolution\")\n",
    "plt.legend(['Max res.', 'Dimensions', 'Storage'])\n",
    "plt.title(\"Camera cost for multiple features\")\n",
    "plt.show()"
   ]
  },
  {
   "cell_type": "code",
   "execution_count": null,
   "id": "987a579b-f645-41df-bbf2-35c1cb181d8b",
   "metadata": {},
   "outputs": [],
   "source": [
    "max_res = []\n",
    "for res in cams['Max resolution']:\n",
    "    max_res.append(res % 225)"
   ]
  },
  {
   "cell_type": "code",
   "execution_count": 108,
   "id": "9f7dc738-b2ef-4126-8520-40320031bd7f",
   "metadata": {},
   "outputs": [
    {
     "data": {
      "image/png": "[encoded data removed]",
      "text/plain": [
       "<Figure size 432x288 with 4 Axes>"
      ]
     },
     "metadata": {
      "needs_background": "light"
     },
     "output_type": "display_data"
    }
   ],
   "source": [
    "plt.scatter(cams[\"Zoom wide (W)\"], cams.Price, c = max_res, marker = '^', cmap = 'Reds')\n",
    "plt.colorbar(label = \"Max Resolution\")\n",
    "plt.scatter(cams[\"Zoom tele (T)\"], cams.Price, c = max_res, marker = \"s\", cmap = 'Greens')\n",
    "plt.colorbar()\n",
    "plt.scatter(cams[\"Normal focus range\"], cams.Price, c = max_res,  marker = \"x\", cmap = 'twilight')\n",
    "plt.colorbar()\n",
    "plt.ylabel(\"Price\")\n",
    "plt.legend(['Wide zoom', 'Tele. zoom', 'N. Focus'])\n",
    "plt.title(\"Camera cost for multiple features\")\n",
    "plt.show()"
   ]
  },
  {
   "cell_type": "markdown",
   "id": "993ac738-ed04-49e8-99b8-0220bda56331",
   "metadata": {},
   "source": [
    "#### Make a pie chart of the percentage of storage included"
   ]
  },
  {
   "cell_type": "code",
   "execution_count": 59,
   "id": "a1da21f7-df31-4c03-ac55-1e689a6fc4c9",
   "metadata": {},
   "outputs": [
    {
     "data": {
      "text/plain": [
       "pandas.core.series.Series"
      ]
     },
     "execution_count": 59,
     "metadata": {},
     "output_type": "execute_result"
    }
   ],
   "source": [
    "storage = cams[\"Storage included\"]\n",
    "type(storage)"
   ]
  },
  {
   "cell_type": "code",
   "execution_count": 60,
   "id": "de9b8d9a-c74e-44f3-9c10-a85acf743465",
   "metadata": {},
   "outputs": [
    {
     "data": {
      "text/plain": [
       "1038"
      ]
     },
     "execution_count": 60,
     "metadata": {},
     "output_type": "execute_result"
    }
   ],
   "source": [
    "len(storage)"
   ]
  },
  {
   "cell_type": "code",
   "execution_count": 49,
   "id": "2407938c-474f-41c1-83c7-0ed751e5c906",
   "metadata": {},
   "outputs": [
    {
     "data": {
      "text/plain": [
       "46"
      ]
     },
     "execution_count": 49,
     "metadata": {},
     "output_type": "execute_result"
    }
   ],
   "source": [
    "stor = dict((y, storage.count(y)) for y in storage)\n",
    "len(stor)"
   ]
  },
  {
   "cell_type": "code",
   "execution_count": 53,
   "id": "3a0a94a3-6989-4f65-9a82-a3e4c97fd388",
   "metadata": {},
   "outputs": [
    {
     "data": {
      "text/plain": [
       "dict"
      ]
     },
     "execution_count": 53,
     "metadata": {},
     "output_type": "execute_result"
    }
   ],
   "source": [
    "type(stor)"
   ]
  },
  {
   "cell_type": "code",
   "execution_count": 68,
   "id": "81afdca6-9088-450a-8e5b-53c714bade48",
   "metadata": {},
   "outputs": [
    {
     "data": {
      "text/plain": [
       "{4.0: 37,\n",
       " 2.0: 10,\n",
       " 40.0: 1,\n",
       " 8.0: 152,\n",
       " 1.0: 21,\n",
       " 32.0: 143,\n",
       " 0.0: 123,\n",
       " 16.0: 279,\n",
       " 64.0: 7,\n",
       " 7.0: 3,\n",
       " 9.0: 17,\n",
       " 10.0: 25,\n",
       " 11.0: 18,\n",
       " 15.0: 3,\n",
       " 6.0: 8,\n",
       " 12.0: 18,\n",
       " 26.0: 11,\n",
       " 25.0: 3,\n",
       " 27.0: 13,\n",
       " 340.0: 1,\n",
       " 58.0: 4,\n",
       " 54.0: 3,\n",
       " nan: 1,\n",
       " nan: 1,\n",
       " 22.0: 12,\n",
       " 20.0: 18,\n",
       " 256.0: 2,\n",
       " 24.0: 8,\n",
       " 13.0: 15,\n",
       " 14.0: 21,\n",
       " 21.0: 5,\n",
       " 23.0: 8,\n",
       " 52.0: 3,\n",
       " 28.0: 6,\n",
       " 48.0: 2,\n",
       " 47.0: 3,\n",
       " 19.0: 7,\n",
       " 17.0: 2,\n",
       " 18.0: 3,\n",
       " 50.0: 1,\n",
       " 45.0: 4,\n",
       " 450.0: 2,\n",
       " 173.0: 1,\n",
       " 128.0: 1,\n",
       " 31.0: 9,\n",
       " 56.0: 3}"
      ]
     },
     "execution_count": 68,
     "metadata": {},
     "output_type": "execute_result"
    }
   ],
   "source": [
    "stor"
   ]
  },
  {
   "cell_type": "code",
   "execution_count": 78,
   "id": "ed6707f5-e4bc-464d-900b-6d7584afe240",
   "metadata": {},
   "outputs": [
    {
     "data": {
      "text/plain": [
       "[3.56,\n",
       " 0.96,\n",
       " 0.1,\n",
       " 14.64,\n",
       " 2.02,\n",
       " 13.78,\n",
       " 11.85,\n",
       " 26.88,\n",
       " 0.67,\n",
       " 0.29,\n",
       " 1.64,\n",
       " 2.41,\n",
       " 1.73,\n",
       " 0.29,\n",
       " 0.77,\n",
       " 1.73,\n",
       " 1.06,\n",
       " 0.29,\n",
       " 1.25,\n",
       " 0.1,\n",
       " 0.39,\n",
       " 0.29,\n",
       " 0.1,\n",
       " 0.1,\n",
       " 1.16,\n",
       " 1.73,\n",
       " 0.19,\n",
       " 0.77,\n",
       " 1.45,\n",
       " 2.02,\n",
       " 0.48,\n",
       " 0.77,\n",
       " 0.29,\n",
       " 0.58,\n",
       " 0.19,\n",
       " 0.29,\n",
       " 0.67,\n",
       " 0.19,\n",
       " 0.29,\n",
       " 0.1,\n",
       " 0.39,\n",
       " 0.19,\n",
       " 0.1,\n",
       " 0.1,\n",
       " 0.87,\n",
       " 0.29]"
      ]
     },
     "execution_count": 78,
     "metadata": {},
     "output_type": "execute_result"
    }
   ],
   "source": [
    "percentages = []\n",
    "for numb in stor.values():\n",
    "    percentages.append(round(((numb/1038)* 100),2))\n",
    "percentages"
   ]
  },
  {
   "cell_type": "code",
   "execution_count": 79,
   "id": "9323471e-d87c-4aba-8930-71cbc8129b96",
   "metadata": {},
   "outputs": [
    {
     "data": {
      "text/plain": [
       "46"
      ]
     },
     "execution_count": 79,
     "metadata": {},
     "output_type": "execute_result"
    }
   ],
   "source": [
    "labels = list(stor.keys())\n",
    "len(labels)"
   ]
  },
  {
   "cell_type": "code",
   "execution_count": 80,
   "id": "bea9380f-1960-4256-beaf-85b739d92f11",
   "metadata": {},
   "outputs": [
    {
     "data": {
      "text/plain": [
       "46"
      ]
     },
     "execution_count": 80,
     "metadata": {},
     "output_type": "execute_result"
    }
   ],
   "source": [
    "len(percentages)"
   ]
  },
  {
   "cell_type": "code",
   "execution_count": 104,
   "id": "1085dcb3-1e32-44b9-b9c1-16324d34efa5",
   "metadata": {},
   "outputs": [
    {
     "data": {
      "image/png": "[encoded data removed]",
      "text/plain": [
       "<Figure size 432x288 with 1 Axes>"
      ]
     },
     "metadata": {},
     "output_type": "display_data"
    }
   ],
   "source": [
    "fig1, ax1 = plt.subplots()\n",
    "ax1.pie(percentages, labels=labels, autopct='%1.1f%%')\n",
    "ax1.axis('equal')  # Equal aspect ratio ensures that pie is drawn as a circle.\n",
    "plt.show()"
   ]
  }
 ],
 "metadata": {
  "kernelspec": {
   "display_name": "Python 3",
   "language": "python",
   "name": "python3"
  },
  "language_info": {
   "codemirror_mode": {
    "name": "ipython",
    "version": 3
   },
   "file_extension": ".py",
   "mimetype": "text/x-python",
   "name": "python",
   "nbconvert_exporter": "python",
   "pygments_lexer": "ipython3",
   "version": "3.8.8"
  }
 },
 "nbformat": 4,
 "nbformat_minor": 5
}
